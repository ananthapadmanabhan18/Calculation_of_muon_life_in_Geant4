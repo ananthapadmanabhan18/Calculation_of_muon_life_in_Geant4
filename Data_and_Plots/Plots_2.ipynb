{
 "cells": [
  {
   "cell_type": "code",
   "execution_count": 64,
   "metadata": {},
   "outputs": [],
   "source": [
    "import numpy as np\n",
    "from scipy.optimize import curve_fit"
   ]
  },
  {
   "cell_type": "code",
   "execution_count": 65,
   "metadata": {},
   "outputs": [],
   "source": [
    "data_650_1 = np.loadtxt('C:\\\\Users\\\\apmna\\\\OneDrive\\\\Documents\\\\GitHub\\\\Calculation_of_muon_life_in_Geant4\\\\Data_and_Plots\\\\Real_Data\\\\650_196.5.data')\n",
    "data_650_2 = np.loadtxt('C:\\\\Users\\\\apmna\\\\OneDrive\\\\Documents\\\\GitHub\\\\Calculation_of_muon_life_in_Geant4\\\\Data_and_Plots\\\\Real_Data\\\\650_200.data')\n",
    "data_650_3 = np.loadtxt('C:\\\\Users\\\\apmna\\\\OneDrive\\\\Documents\\\\GitHub\\\\Calculation_of_muon_life_in_Geant4\\\\Data_and_Plots\\\\Real_Data\\\\650_216.7.data')\n",
    "\n",
    "data_700_1 = np.loadtxt('C:\\\\Users\\\\apmna\\\\OneDrive\\\\Documents\\\\GitHub\\\\Calculation_of_muon_life_in_Geant4\\\\Data_and_Plots\\\\Real_Data\\\\700_198.4.data')\n",
    "data_700_2 = np.loadtxt('C:\\\\Users\\\\apmna\\\\OneDrive\\\\Documents\\\\GitHub\\\\Calculation_of_muon_life_in_Geant4\\\\Data_and_Plots\\\\Real_Data\\\\700_200.data')\n",
    "data_700_3 = np.loadtxt('C:\\\\Users\\\\apmna\\\\OneDrive\\\\Documents\\\\GitHub\\\\Calculation_of_muon_life_in_Geant4\\\\Data_and_Plots\\\\Real_Data\\\\700_216.7.data')\n",
    "\n",
    "data_750_1 = np.loadtxt('C:\\\\Users\\\\apmna\\\\OneDrive\\\\Documents\\\\GitHub\\\\Calculation_of_muon_life_in_Geant4\\\\Data_and_Plots\\\\Real_Data\\\\750_196.5.data')\n",
    "data_750_2 = np.loadtxt('C:\\\\Users\\\\apmna\\\\OneDrive\\\\Documents\\\\GitHub\\\\Calculation_of_muon_life_in_Geant4\\\\Data_and_Plots\\\\Real_Data\\\\750_200.data')\n",
    "data_750_3 = np.loadtxt('C:\\\\Users\\\\apmna\\\\OneDrive\\\\Documents\\\\GitHub\\\\Calculation_of_muon_life_in_Geant4\\\\Data_and_Plots\\\\Real_Data\\\\750_216.7.data')"
   ]
  },
  {
   "cell_type": "code",
   "execution_count": 66,
   "metadata": {},
   "outputs": [],
   "source": [
    "data_650_1 = [data_650_1[:,0][i] for i in range(len(data_650_1[:,0])) if data_650_1[:,0][i] < 40000]\n",
    "data_650_2 = [data_650_2[:,0][i] for i in range(len(data_650_2[:,0])) if data_650_2[:,0][i] < 40000]\n",
    "data_650_3 = [data_650_3[:,0][i] for i in range(len(data_650_3[:,0])) if data_650_3[:,0][i] < 40000]\n",
    "\n",
    "data_700_1 = [data_700_1[:,0][i] for i in range(len(data_700_1[:,0])) if data_700_1[:,0][i] < 40000]\n",
    "data_700_2 = [data_700_2[:,0][i] for i in range(len(data_700_2[:,0])) if data_700_2[:,0][i] < 40000]\n",
    "data_700_3 = [data_700_3[:,0][i] for i in range(len(data_700_3[:,0])) if data_700_3[:,0][i] < 40000]\n",
    "\n",
    "data_750_1 = [data_750_1[:,0][i] for i in range(len(data_750_1[:,0])) if data_750_1[:,0][i] < 40000]\n",
    "data_750_2 = [data_750_2[:,0][i] for i in range(len(data_750_2[:,0])) if data_750_2[:,0][i] < 40000]\n",
    "data_750_3 = [data_750_3[:,0][i] for i in range(len(data_750_3[:,0])) if data_750_3[:,0][i] < 40000]"
   ]
  },
  {
   "cell_type": "code",
   "execution_count": 67,
   "metadata": {},
   "outputs": [],
   "source": [
    "bins_650_1,edges_650_1 = np.histogram(data_650_1, bins=len(data_650_1))\n",
    "bins_650_2,edges_650_2 = np.histogram(data_650_2, bins=len(data_650_2))\n",
    "bins_650_3,edges_650_3 = np.histogram(data_650_3, bins=len(data_650_3))\n",
    "center_650_1 = (edges_650_1[:-1] + edges_650_1[1:]) / 2\n",
    "center_650_2 = (edges_650_2[:-1] + edges_650_2[1:]) / 2\n",
    "center_650_3 = (edges_650_3[:-1] + edges_650_3[1:]) / 2\n",
    "\n",
    "\n",
    "\n",
    "\n",
    "bins_700_1,edges_700_1 = np.histogram(data_700_1, bins=len(data_700_1))\n",
    "bins_700_2,edges_700_2 = np.histogram(data_700_2, bins=len(data_700_2))\n",
    "bins_700_3,edges_700_3 = np.histogram(data_700_3, bins=len(data_700_3))\n",
    "center_700_1 = (edges_700_1[:-1] + edges_700_1[1:]) / 2\n",
    "center_700_2 = (edges_700_2[:-1] + edges_700_2[1:]) / 2\n",
    "center_700_3 = (edges_700_3[:-1] + edges_700_3[1:]) / 2\n",
    "\n",
    "\n",
    "\n",
    "\n",
    "bins_750_1,edges_750_1 = np.histogram(data_750_1, bins=len(data_750_1))\n",
    "bins_750_2,edges_750_2 = np.histogram(data_750_2, bins=len(data_750_2))\n",
    "bins_750_3,edges_750_3 = np.histogram(data_750_3, bins=len(data_750_3))\n",
    "center_750_1 = (edges_750_1[:-1] + edges_750_1[1:]) / 2\n",
    "center_750_2 = (edges_750_2[:-1] + edges_750_2[1:]) / 2\n",
    "center_750_3 = (edges_750_3[:-1] + edges_750_3[1:]) / 2\n"
   ]
  },
  {
   "cell_type": "code",
   "execution_count": 68,
   "metadata": {},
   "outputs": [],
   "source": [
    "# file_names = ['650_1','650_2','650_3','700_1','700_2','700_3','750_1','750_2','750_3']\n",
    "# data = [center_650_1,center_650_2,center_650_3,center_700_1,center_700_2,center_700_3,center_750_1,center_750_2,center_750_3]\n",
    "# bins = [bins_650_1,bins_650_2,bins_650_3,bins_700_1,bins_700_2,bins_700_3,bins_750_1,bins_750_2,bins_750_3]\n",
    "\n",
    "# for i in range(len(file_names)):\n",
    "#     np.savetxt(file_names[i]+'.txt',np.array([data[i],bins[i]]).T,delimiter='\\t',header='Time\\tCount')\n",
    "\n",
    "\n"
   ]
  },
  {
   "cell_type": "code",
   "execution_count": 72,
   "metadata": {},
   "outputs": [
    {
     "name": "stdout",
     "output_type": "stream",
     "text": [
      "Optimal parameters:\n",
      "N0 = 11.19803748110795\n",
      "tau = 1561.3864967747154\n",
      "A = 0.14274815380617709\n"
     ]
    },
    {
     "name": "stderr",
     "output_type": "stream",
     "text": [
      "C:\\Users\\apmna\\AppData\\Local\\Temp\\ipykernel_12612\\1722442920.py:3: RuntimeWarning: overflow encountered in exp\n",
      "  return N0 * np.exp(-t/tau) + A\n",
      "C:\\Users\\apmna\\AppData\\Local\\Temp\\ipykernel_12612\\1722442920.py:3: RuntimeWarning: overflow encountered in multiply\n",
      "  return N0 * np.exp(-t/tau) + A\n"
     ]
    }
   ],
   "source": [
    "# Define the exponential decay function\n",
    "def exponential_decay(t, N0, tau, A):\n",
    "    return N0 * np.exp(-t/tau) + A\n",
    "\n",
    "\n",
    "# Initial guesses for the parameters\n",
    "initial_guess = (600, 5000, 0)\n",
    "\n",
    "# Fit the exponential decay function to the data with initial guesses\n",
    "popt, pcov = curve_fit(exponential_decay, center_750_3, bins_750_3, p0=initial_guess)\n",
    "\n",
    "# Extract the optimal parameters\n",
    "N0_opt, tau_opt, A_opt = popt\n",
    "\n",
    "# Print the optimal parameters\n",
    "print(\"Optimal parameters:\")\n",
    "print(\"N0 =\", N0_opt)\n",
    "print(\"tau =\", tau_opt)\n",
    "print(\"A =\", A_opt)"
   ]
  }
 ],
 "metadata": {
  "kernelspec": {
   "display_name": "Python 3",
   "language": "python",
   "name": "python3"
  },
  "language_info": {
   "codemirror_mode": {
    "name": "ipython",
    "version": 3
   },
   "file_extension": ".py",
   "mimetype": "text/x-python",
   "name": "python",
   "nbconvert_exporter": "python",
   "pygments_lexer": "ipython3",
   "version": "3.11.6"
  }
 },
 "nbformat": 4,
 "nbformat_minor": 2
}
