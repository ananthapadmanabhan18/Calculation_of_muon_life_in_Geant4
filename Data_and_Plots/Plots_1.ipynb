{
 "cells": [
  {
   "cell_type": "code",
   "execution_count": 1,
   "metadata": {},
   "outputs": [
    {
     "ename": "",
     "evalue": "",
     "output_type": "error",
     "traceback": [
      "\u001b[1;31mThe Kernel crashed while executing code in the current cell or a previous cell. \n",
      "\u001b[1;31mPlease review the code in the cell(s) to identify a possible cause of the failure. \n",
      "\u001b[1;31mClick <a href='https://aka.ms/vscodeJupyterKernelCrash'>here</a> for more info. \n",
      "\u001b[1;31mView Jupyter <a href='command:jupyter.viewOutput'>log</a> for further details."
     ]
    }
   ],
   "source": [
    "import ROOT"
   ]
  },
  {
   "cell_type": "code",
   "execution_count": null,
   "metadata": {},
   "outputs": [],
   "source": [
    "'''\n",
    "Loading the Data from file\n",
    "'''\n",
    "data_650_1 = np.loadtxt('/home/apmnair18/Github/Calculation_of_muon_life_in_Geant4/Data_and_Plots/Real_Data/650_196.5.data')\n",
    "data_650_2 = np.loadtxt('/home/apmnair18/Github/Calculation_of_muon_life_in_Geant4/Data_and_Plots/Real_Data/650_216.7.data')\n",
    "data_700_1 = np.loadtxt('/home/apmnair18/Github/Calculation_of_muon_life_in_Geant4/Data_and_Plots/Real_Data/700_198.4.data')\n",
    "data_700_2 = np.loadtxt('/home/apmnair18/Github/Calculation_of_muon_life_in_Geant4/Data_and_Plots/Real_Data/700_216.7.data')\n",
    "data_750_1 = np.loadtxt('/home/apmnair18/Github/Calculation_of_muon_life_in_Geant4/Data_and_Plots/Real_Data/750_196.5.data')\n",
    "data_750_2 = np.loadtxt('/home/apmnair18/Github/Calculation_of_muon_life_in_Geant4/Data_and_Plots/Real_Data/750_216.7.data')"
   ]
  }
 ],
 "metadata": {
  "kernelspec": {
   "display_name": "Python 3",
   "language": "python",
   "name": "python3"
  },
  "language_info": {
   "codemirror_mode": {
    "name": "ipython",
    "version": 3
   },
   "file_extension": ".py",
   "mimetype": "text/x-python",
   "name": "python",
   "nbconvert_exporter": "python",
   "pygments_lexer": "ipython3",
   "version": "3.8.6"
  }
 },
 "nbformat": 4,
 "nbformat_minor": 2
}
