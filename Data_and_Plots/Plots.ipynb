{
 "cells": [
  {
   "cell_type": "markdown",
   "metadata": {},
   "source": [
    "# __Plots and Calculations for Muon Lifetime__ "
   ]
  },
  {
   "cell_type": "markdown",
   "metadata": {},
   "source": [
    "## Plots from real Data"
   ]
  },
  {
   "cell_type": "code",
   "execution_count": 155,
   "metadata": {},
   "outputs": [],
   "source": [
    "import ROOT as root\n",
    "import numpy as np\n",
    "import scipy as scipy\n",
    "import math as m"
   ]
  },
  {
   "cell_type": "code",
   "execution_count": 156,
   "metadata": {},
   "outputs": [],
   "source": [
    "data = np.loadtxt('/home/apmnair18/Github/Calculation_of_muon_life_in_Geant4/Data_and_Plots/Real_Data/700V_198.4.data')\n",
    "ilist = data[:,0].tolist()\n",
    "ilist = [value for value in ilist if value < 40000]"
   ]
  },
  {
   "cell_type": "code",
   "execution_count": 157,
   "metadata": {},
   "outputs": [
    {
     "name": "stdout",
     "output_type": "stream",
     "text": [
      "****************************************\n",
      "Minimizer is Minuit2 / Migrad\n",
      "Chi2                      =      73.3747\n",
      "NDf                       =           51\n",
      "Edm                       =   1.2138e-07\n",
      "NCalls                    =          372\n",
      "p0                        =      342.094   +/-   12.3122     \n",
      "p1                        = -0.000525045   +/-   1.59475e-05 \n",
      "p2                        =      1.92548   +/-   0.300738    \n"
     ]
    },
    {
     "name": "stderr",
     "output_type": "stream",
     "text": [
      "Warning in <TROOT::Append>: Replacing existing TH1: hist (Potential memory leak).\n",
      "Warning in <TCanvas::Constructor>: Deleting canvas with same name: canvas\n"
     ]
    }
   ],
   "source": [
    "hist = root.TH1F(\"hist\", r' V_{operating}=700V, V_{th}=198.4mV',60, 0, 21000)\n",
    "canvas = root.TCanvas(\"canvas\", \"Histogram Canvas\")\n",
    "for value in ilist:\n",
    "    hist.Fill(value)\n",
    "\n",
    "\n",
    "exp_fit = root.TF1(\"exp_fit\", \"[0]*exp(x*[1]) + [2]\")\n",
    "hist.Fit(exp_fit)\n",
    "A=exp_fit.GetParameter(0)\n",
    "B=exp_fit.GetParameter(1)\n",
    "C=exp_fit.GetParameter(2)\n",
    "# tau = exp_fit.GetParameter(1)\n",
    "# print(\"tau =\", -1/tau)\n",
    "    "
   ]
  },
  {
   "cell_type": "code",
   "execution_count": 158,
   "metadata": {},
   "outputs": [
    {
     "data": {
      "image/png": "[encoded data removed]",
      "text/plain": [
       "<IPython.core.display.Image object>"
      ]
     },
     "metadata": {},
     "output_type": "display_data"
    }
   ],
   "source": [
    "hist.SetStats(False)\n",
    "hist.Draw()\n",
    "\n",
    "\n",
    "legend = root.TLegend(0.6, 0.7, 0.9, 0.9)\n",
    "legend.AddEntry(exp_fit, r\"Fitted N(t) = A*e^{Bx}+C\", \"l\")\n",
    "legend.AddEntry(exp_fit, f\"A ={A}\", \"l\")\n",
    "legend.AddEntry(exp_fit, f\"B ={B}\", \"l\")\n",
    "legend.AddEntry(exp_fit, f\"C ={C}\", \"l\")\n",
    "\n",
    "legend.Draw()\n",
    "\n",
    "hist.GetXaxis().SetTitle(\"Time Interval (ns)\")\n",
    "hist.GetYaxis().SetTitle(\"Number of Counts\")\n",
    "canvas.SetGrid()\n",
    "canvas.Draw()"
   ]
  }
 ],
 "metadata": {
  "kernelspec": {
   "display_name": "Python 3",
   "language": "python",
   "name": "python3"
  },
  "language_info": {
   "codemirror_mode": {
    "name": "ipython",
    "version": 3
   },
   "file_extension": ".py",
   "mimetype": "text/x-python",
   "name": "python",
   "nbconvert_exporter": "python",
   "pygments_lexer": "ipython3",
   "version": "3.0.0"
  }
 },
 "nbformat": 4,
 "nbformat_minor": 2
}
